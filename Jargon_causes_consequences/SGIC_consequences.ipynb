{
 "cells": [
  {
   "cell_type": "code",
   "execution_count": 10,
   "id": "fb0d39d6",
   "metadata": {},
   "outputs": [],
   "source": [
    "import glob\n",
    "import collections\n",
    "from collections import OrderedDict\n",
    "import re\n",
    "import numpy as np\n",
    "import pandas as pd\n",
    "import json\n",
    "def ecrire_json(chemin, contenu):\n",
    "    w    = open(chemin, \"w\", encoding=\"utf-8\")\n",
    "    w.write(json.dumps(contenu, indent=2, ensure_ascii=False))\n",
    "    w.close()"
   ]
  },
  {
   "cell_type": "code",
   "execution_count": 4,
   "id": "54e4197a",
   "metadata": {},
   "outputs": [
    {
     "name": "stderr",
     "output_type": "stream",
     "text": [
      "/var/folders/y1/qq001wl149b6grz6q_lpv6vh0000gn/T/ipykernel_10940/346191516.py:5: DtypeWarning: Columns (8) have mixed types. Specify dtype option on import or set low_memory=False.\n",
      "  df= pd.read_csv(fichier, sep = ';')\n",
      "/var/folders/y1/qq001wl149b6grz6q_lpv6vh0000gn/T/ipykernel_10940/346191516.py:5: DtypeWarning: Columns (8,18) have mixed types. Specify dtype option on import or set low_memory=False.\n",
      "  df= pd.read_csv(fichier, sep = ';')\n",
      "/var/folders/y1/qq001wl149b6grz6q_lpv6vh0000gn/T/ipykernel_10940/346191516.py:5: DtypeWarning: Columns (8) have mixed types. Specify dtype option on import or set low_memory=False.\n",
      "  df= pd.read_csv(fichier, sep = ';')\n",
      "/var/folders/y1/qq001wl149b6grz6q_lpv6vh0000gn/T/ipykernel_10940/346191516.py:5: DtypeWarning: Columns (8) have mixed types. Specify dtype option on import or set low_memory=False.\n",
      "  df= pd.read_csv(fichier, sep = ';')\n",
      "/var/folders/y1/qq001wl149b6grz6q_lpv6vh0000gn/T/ipykernel_10940/346191516.py:5: DtypeWarning: Columns (8) have mixed types. Specify dtype option on import or set low_memory=False.\n",
      "  df= pd.read_csv(fichier, sep = ';')\n",
      "/var/folders/y1/qq001wl149b6grz6q_lpv6vh0000gn/T/ipykernel_10940/346191516.py:5: DtypeWarning: Columns (33) have mixed types. Specify dtype option on import or set low_memory=False.\n",
      "  df= pd.read_csv(fichier, sep = ';')\n",
      "/var/folders/y1/qq001wl149b6grz6q_lpv6vh0000gn/T/ipykernel_10940/346191516.py:5: DtypeWarning: Columns (8,18) have mixed types. Specify dtype option on import or set low_memory=False.\n",
      "  df= pd.read_csv(fichier, sep = ';')\n",
      "/var/folders/y1/qq001wl149b6grz6q_lpv6vh0000gn/T/ipykernel_10940/346191516.py:5: DtypeWarning: Columns (8) have mixed types. Specify dtype option on import or set low_memory=False.\n",
      "  df= pd.read_csv(fichier, sep = ';')\n"
     ]
    }
   ],
   "source": [
    "fichiers = glob.glob(\"/Users/mustaphalazreg/Downloads/OneDrive_1_29-07-2022/*.csv\")\n",
    "    #print(fichier)\n",
    "consequences_list = []\n",
    "for fichier in fichiers:\n",
    "    df= pd.read_csv(fichier, sep = ';')\n",
    "    df_sgic_argot = (df.dropna(subset=['CONSEQUENCE-TYPE']))\n",
    "    for y in df_sgic_argot['CONSEQUENCE-TYPE']:\n",
    "        consequences_list.append(y)"
   ]
  },
  {
   "cell_type": "code",
   "execution_count": 5,
   "id": "4ceedc64",
   "metadata": {},
   "outputs": [
    {
     "data": {
      "text/plain": [
       "{'Accès fermé',\n",
       " 'Arrêt déplacé',\n",
       " 'Bus de remplacement',\n",
       " 'Circulation alternée (contresens)',\n",
       " 'Correspondance non assurée',\n",
       " 'Desserte assurée',\n",
       " 'Desserte du prochain train modifié ',\n",
       " 'Desserte exceptionnelle',\n",
       " 'Interconnexion maintenue',\n",
       " 'Interconnexion suspendue',\n",
       " 'Itinéraire dévié',\n",
       " 'Prochain train retardé',\n",
       " 'Quai fermé',\n",
       " 'Reprise progressive du trafic',\n",
       " 'Retour progressif à la normale',\n",
       " 'Service partiel',\n",
       " 'Service provisoire',\n",
       " 'Service réduit',\n",
       " 'Station / Gare fermée',\n",
       " 'Station / Gare fermée, arrêt non desservi',\n",
       " 'Station / Gare fermée, correspondance assurée',\n",
       " 'Station / Gare fermée, correspondance non assurée',\n",
       " 'Station / Gare non desservie',\n",
       " 'Suppression de mission',\n",
       " 'Terminus',\n",
       " 'Trafic interrompu',\n",
       " 'Trafic normal',\n",
       " 'Trafic perturbé',\n",
       " 'Trafic très perturbé',\n",
       " 'Train ne prend plus de voyageur',\n",
       " 'Train omnibus',\n",
       " 'Train repart',\n",
       " 'Train sans arrêt',\n",
       " 'Train sans voyageur',\n",
       " 'Train stationne',\n",
       " \"Trains ne marquent pas l'arrêt\",\n",
       " 'Véhicule ne prend plus de voyageur',\n",
       " 'Véhicule sans voyageur',\n",
       " \"Véhicule à l'arrêt\"}"
      ]
     },
     "execution_count": 5,
     "metadata": {},
     "output_type": "execute_result"
    }
   ],
   "source": [
    "set(consequences_list)"
   ]
  },
  {
   "cell_type": "code",
   "execution_count": 16,
   "id": "4fc844c7",
   "metadata": {},
   "outputs": [],
   "source": [
    "df = []\n",
    "freq = {}\n",
    "for consequence in consequences_list:\n",
    "    freq.setdefault(consequence, 0)\n",
    "    freq[consequence]+=1\n",
    "sorted_freq = OrderedDict(sorted(freq.items(), key=lambda x: x[1], reverse=True))\n",
    "freq_ab_re_per=[]\n",
    "df_SGIC= []\n",
    "for cle,valeur in sorted_freq.items():\n",
    "    relat=valeur/sum(freq.values())\n",
    "    per=(valeur/sum(freq.values()))*100\n",
    "    freq_ab_re_per.append({cle:{\"fréquence absolu\":valeur, \"fréquence relative\" :relat, \"pourcentage\": \"%.2f %s\"%(per,\"%\")}})\n",
    "    #df = pd.DataFrame({'conséquence': [cle] ,'fréquence absolu': [valeur], 'fréquence relative': [relat], 'pourcentage': \"%.4f %s\"%(per,\"%\")})\n",
    "    df = pd.DataFrame({'conséquence': [cle] ,'nombre': [valeur]})\n",
    "\n",
    "\n",
    "    df_SGIC.append(df)"
   ]
  },
  {
   "cell_type": "code",
   "execution_count": 17,
   "id": "ba09e3e4",
   "metadata": {},
   "outputs": [],
   "source": [
    "#ecrire_json(\"SGIC_consequences.json\",freq_ab_re_per)\n",
    "df_SGIC_consequences = pd.concat(df_SGIC)\n",
    "df_SGIC_consequences = df_SGIC_consequences.set_index('conséquence')"
   ]
  },
  {
   "cell_type": "code",
   "execution_count": 18,
   "id": "c4988650",
   "metadata": {},
   "outputs": [
    {
     "data": {
      "text/html": [
       "<div>\n",
       "<style scoped>\n",
       "    .dataframe tbody tr th:only-of-type {\n",
       "        vertical-align: middle;\n",
       "    }\n",
       "\n",
       "    .dataframe tbody tr th {\n",
       "        vertical-align: top;\n",
       "    }\n",
       "\n",
       "    .dataframe thead th {\n",
       "        text-align: right;\n",
       "    }\n",
       "</style>\n",
       "<table border=\"1\" class=\"dataframe\">\n",
       "  <thead>\n",
       "    <tr style=\"text-align: right;\">\n",
       "      <th></th>\n",
       "      <th>nombre</th>\n",
       "    </tr>\n",
       "    <tr>\n",
       "      <th>conséquence</th>\n",
       "      <th></th>\n",
       "    </tr>\n",
       "  </thead>\n",
       "  <tbody>\n",
       "    <tr>\n",
       "      <th>Train stationne</th>\n",
       "      <td>357154</td>\n",
       "    </tr>\n",
       "    <tr>\n",
       "      <th>Trafic perturbé</th>\n",
       "      <td>86226</td>\n",
       "    </tr>\n",
       "    <tr>\n",
       "      <th>Trafic interrompu</th>\n",
       "      <td>35640</td>\n",
       "    </tr>\n",
       "    <tr>\n",
       "      <th>Prochain train retardé</th>\n",
       "      <td>30469</td>\n",
       "    </tr>\n",
       "    <tr>\n",
       "      <th>Reprise progressive du trafic</th>\n",
       "      <td>19636</td>\n",
       "    </tr>\n",
       "  </tbody>\n",
       "</table>\n",
       "</div>"
      ],
      "text/plain": [
       "                               nombre\n",
       "conséquence                          \n",
       "Train stationne                357154\n",
       "Trafic perturbé                 86226\n",
       "Trafic interrompu               35640\n",
       "Prochain train retardé          30469\n",
       "Reprise progressive du trafic   19636"
      ]
     },
     "execution_count": 18,
     "metadata": {},
     "output_type": "execute_result"
    }
   ],
   "source": [
    "df_SGIC_consequences.head()"
   ]
  },
  {
   "cell_type": "code",
   "execution_count": 19,
   "id": "b019ae33",
   "metadata": {},
   "outputs": [],
   "source": [
    "df_SGIC_consequences.to_csv(\"SGIC_consequences.csv\")"
   ]
  },
  {
   "cell_type": "code",
   "execution_count": null,
   "id": "1e8f4c26",
   "metadata": {},
   "outputs": [],
   "source": []
  }
 ],
 "metadata": {
  "kernelspec": {
   "display_name": "Python 3",
   "language": "python",
   "name": "python3"
  },
  "language_info": {
   "codemirror_mode": {
    "name": "ipython",
    "version": 3
   },
   "file_extension": ".py",
   "mimetype": "text/x-python",
   "name": "python",
   "nbconvert_exporter": "python",
   "pygments_lexer": "ipython3",
   "version": "3.8.8"
  }
 },
 "nbformat": 4,
 "nbformat_minor": 5
}
