{
 "cells": [
  {
   "cell_type": "code",
   "execution_count": 60,
   "id": "c40bcbf2",
   "metadata": {},
   "outputs": [],
   "source": [
    "import glob\n",
    "import collections\n",
    "from collections import OrderedDict\n",
    "import re\n",
    "import numpy as np\n",
    "import pandas as pd\n",
    "import json\n",
    "def ecrire_json(chemin, contenu):\n",
    "    w    = open(chemin, \"w\", encoding=\"utf-8\")\n",
    "    w.write(json.dumps(contenu, indent=2, ensure_ascii=False))\n",
    "    w.close()"
   ]
  },
  {
   "cell_type": "code",
   "execution_count": 46,
   "id": "00a8d23f",
   "metadata": {},
   "outputs": [
    {
     "name": "stderr",
     "output_type": "stream",
     "text": [
      "/var/folders/y1/qq001wl149b6grz6q_lpv6vh0000gn/T/ipykernel_10693/1188946467.py:5: DtypeWarning: Columns (8) have mixed types. Specify dtype option on import or set low_memory=False.\n",
      "  df= pd.read_csv(fichier, sep = ';')\n",
      "/var/folders/y1/qq001wl149b6grz6q_lpv6vh0000gn/T/ipykernel_10693/1188946467.py:5: DtypeWarning: Columns (8,18) have mixed types. Specify dtype option on import or set low_memory=False.\n",
      "  df= pd.read_csv(fichier, sep = ';')\n",
      "/var/folders/y1/qq001wl149b6grz6q_lpv6vh0000gn/T/ipykernel_10693/1188946467.py:5: DtypeWarning: Columns (8) have mixed types. Specify dtype option on import or set low_memory=False.\n",
      "  df= pd.read_csv(fichier, sep = ';')\n",
      "/var/folders/y1/qq001wl149b6grz6q_lpv6vh0000gn/T/ipykernel_10693/1188946467.py:5: DtypeWarning: Columns (8) have mixed types. Specify dtype option on import or set low_memory=False.\n",
      "  df= pd.read_csv(fichier, sep = ';')\n",
      "/var/folders/y1/qq001wl149b6grz6q_lpv6vh0000gn/T/ipykernel_10693/1188946467.py:5: DtypeWarning: Columns (8) have mixed types. Specify dtype option on import or set low_memory=False.\n",
      "  df= pd.read_csv(fichier, sep = ';')\n",
      "/var/folders/y1/qq001wl149b6grz6q_lpv6vh0000gn/T/ipykernel_10693/1188946467.py:5: DtypeWarning: Columns (33) have mixed types. Specify dtype option on import or set low_memory=False.\n",
      "  df= pd.read_csv(fichier, sep = ';')\n",
      "/var/folders/y1/qq001wl149b6grz6q_lpv6vh0000gn/T/ipykernel_10693/1188946467.py:5: DtypeWarning: Columns (8,18) have mixed types. Specify dtype option on import or set low_memory=False.\n",
      "  df= pd.read_csv(fichier, sep = ';')\n",
      "/var/folders/y1/qq001wl149b6grz6q_lpv6vh0000gn/T/ipykernel_10693/1188946467.py:5: DtypeWarning: Columns (8) have mixed types. Specify dtype option on import or set low_memory=False.\n",
      "  df= pd.read_csv(fichier, sep = ';')\n"
     ]
    }
   ],
   "source": [
    "fichiers = glob.glob(\"/Users/mustaphalazreg/Downloads/OneDrive_1_29-07-2022/*.csv\")\n",
    "    #print(fichier)\n",
    "causes_list = []\n",
    "for fichier in fichiers:\n",
    "    df= pd.read_csv(fichier, sep = ';')\n",
    "    df_sgic_argot = (df.dropna(subset=['EVENEMENT-NATURE']))\n",
    "    for y in df_sgic_argot['EVENEMENT-NATURE']:\n",
    "        causes_list.append(y)\n",
    "        "
   ]
  },
  {
   "cell_type": "code",
   "execution_count": 47,
   "id": "2dc7c394",
   "metadata": {},
   "outputs": [
    {
     "data": {
      "text/plain": [
       "{'Accident avec tiers',\n",
       " 'Accident entre tiers',\n",
       " 'Accident grave de personne',\n",
       " 'Accident sur la voie publique',\n",
       " 'Acte de malveillance',\n",
       " \"Actionnement d'un signal d'alarme\",\n",
       " 'Affluence exceptionnelle',\n",
       " 'Alerte',\n",
       " 'Alerte enlévement',\n",
       " 'Animal sur les voies',\n",
       " 'Arrêt de travail spontané',\n",
       " 'Ascenseur',\n",
       " 'Autre (Commercial)',\n",
       " 'Autre (Evènementiel)',\n",
       " 'Autre (Local)',\n",
       " 'Autres',\n",
       " 'Bagage oublié',\n",
       " 'Canalisation défectueuse',\n",
       " 'Chutes de neige',\n",
       " 'Commémoration',\n",
       " 'Conditions climatiques',\n",
       " 'Cérémonie',\n",
       " \"Difficultés d'exploitation\",\n",
       " 'Divers incidents',\n",
       " 'Déconfinement',\n",
       " \"Défaut d'alimentation électrique\",\n",
       " 'Défilé',\n",
       " 'Dégagement de fumée',\n",
       " 'Embouteillage',\n",
       " 'Escalier Mécanique',\n",
       " 'Fin tardive de chantier',\n",
       " 'Fortes chaleurs',\n",
       " 'Fortes pluies',\n",
       " 'Gêne à la fermeture des portes',\n",
       " 'Incendie aux abord des voies',\n",
       " 'Incident (Message Reflexe)',\n",
       " 'Incident affectant la voie',\n",
       " 'Incident aux portes palières',\n",
       " \"Incident d'exploitation\",\n",
       " 'Incident technique',\n",
       " 'Incident voyageur',\n",
       " 'Inondation',\n",
       " 'Intervention agent',\n",
       " 'Intervention conducteur',\n",
       " \"Intervention des forces de l'ordre\",\n",
       " 'Intervention des pompiers',\n",
       " 'Intervention des secours',\n",
       " 'Intervention des équipes techniques',\n",
       " 'Malaise voyageur',\n",
       " 'Manifestation (non précisée)',\n",
       " 'Marathon de Paris',\n",
       " 'Mesures de régulation',\n",
       " 'Mesures de sécurité',\n",
       " 'Mouvement social',\n",
       " 'Mouvement social QR Code',\n",
       " 'Nuit Blanche',\n",
       " 'Obstacle sur la voie',\n",
       " 'Panne de signalisation',\n",
       " 'Panne mécanique',\n",
       " 'Pass Navigo',\n",
       " 'Personnes sur les voies',\n",
       " 'Préavis de grève',\n",
       " 'Préavis de grève (+liste) des syndicats de la RATP',\n",
       " 'Préavis de grève de tous les syndicats de la RATP',\n",
       " 'Rail endommagé',\n",
       " \"Rupture d'alimentation électrique\",\n",
       " 'Sport et Spectacle',\n",
       " 'Train en panne',\n",
       " 'Tramway en panne',\n",
       " 'Travaux (Ressource Graphique)',\n",
       " 'Travaux (non précisé)',\n",
       " 'Travaux RVB',\n",
       " 'Travaux de modernisation',\n",
       " 'Travaux de rénovation',\n",
       " 'Travaux de voirie'}"
      ]
     },
     "execution_count": 47,
     "metadata": {},
     "output_type": "execute_result"
    }
   ],
   "source": [
    "set(causes_list)"
   ]
  },
  {
   "cell_type": "code",
   "execution_count": 94,
   "id": "431e0c14",
   "metadata": {},
   "outputs": [],
   "source": [
    "df = []\n",
    "freq = {}\n",
    "for cause in causes_list:\n",
    "    freq.setdefault(cause, 0)\n",
    "    freq[cause]+=1\n",
    "sorted_freq = OrderedDict(sorted(freq.items(), key=lambda x: x[1], reverse=True))\n",
    "freq_ab_re_per=[]\n",
    "df_SGIC= []\n",
    "for cle,valeur in sorted_freq.items():\n",
    "    relat=valeur/sum(freq.values())\n",
    "    per=(valeur/sum(freq.values()))*100\n",
    "    #freq_ab_re_per.append({cle:{\"fréquence absolu\":valeur, \"fréquence relative\" :relat, \"pourcentage\": \"%.2f %s\"%(per,\"%\")}})\n",
    "    #df = pd.DataFrame({'cause': [cle] ,'fréquence absolu': [valeur], 'fréquence relative': [relat], 'pourcentage': \"%.4f %s\"%(per,\"%\")})\n",
    "    df = pd.DataFrame({'cause': [cle] ,'nombre': [valeur]})\n",
    "    df_SGIC.append(df)\n"
   ]
  },
  {
   "cell_type": "code",
   "execution_count": 93,
   "id": "6c7f165a",
   "metadata": {},
   "outputs": [],
   "source": [
    "ecrire_json(\"SGIC_causes.json\",freq_ab_re_per)"
   ]
  },
  {
   "cell_type": "code",
   "execution_count": 96,
   "id": "ba61166d",
   "metadata": {},
   "outputs": [],
   "source": [
    "df_SGIC_causes = pd.concat(df_SGIC)\n",
    "df_SGIC_causes = df_SGIC_causes.set_index('cause')"
   ]
  },
  {
   "cell_type": "code",
   "execution_count": 91,
   "id": "cb02ada2",
   "metadata": {},
   "outputs": [
    {
     "data": {
      "text/html": [
       "<div>\n",
       "<style scoped>\n",
       "    .dataframe tbody tr th:only-of-type {\n",
       "        vertical-align: middle;\n",
       "    }\n",
       "\n",
       "    .dataframe tbody tr th {\n",
       "        vertical-align: top;\n",
       "    }\n",
       "\n",
       "    .dataframe thead th {\n",
       "        text-align: right;\n",
       "    }\n",
       "</style>\n",
       "<table border=\"1\" class=\"dataframe\">\n",
       "  <thead>\n",
       "    <tr style=\"text-align: right;\">\n",
       "      <th></th>\n",
       "      <th>fréquence absolu</th>\n",
       "      <th>fréquence relative</th>\n",
       "      <th>pourcentage</th>\n",
       "    </tr>\n",
       "    <tr>\n",
       "      <th>cause</th>\n",
       "      <th></th>\n",
       "      <th></th>\n",
       "      <th></th>\n",
       "    </tr>\n",
       "  </thead>\n",
       "  <tbody>\n",
       "    <tr>\n",
       "      <th>Incident (Message Reflexe)</th>\n",
       "      <td>314823</td>\n",
       "      <td>0.518138</td>\n",
       "      <td>51.8138 %</td>\n",
       "    </tr>\n",
       "    <tr>\n",
       "      <th>Difficultés d'exploitation</th>\n",
       "      <td>27684</td>\n",
       "      <td>0.045563</td>\n",
       "      <td>4.5563 %</td>\n",
       "    </tr>\n",
       "    <tr>\n",
       "      <th>Incident d'exploitation</th>\n",
       "      <td>24057</td>\n",
       "      <td>0.039593</td>\n",
       "      <td>3.9593 %</td>\n",
       "    </tr>\n",
       "    <tr>\n",
       "      <th>Bagage oublié</th>\n",
       "      <td>21262</td>\n",
       "      <td>0.034993</td>\n",
       "      <td>3.4993 %</td>\n",
       "    </tr>\n",
       "    <tr>\n",
       "      <th>Malaise voyageur</th>\n",
       "      <td>21123</td>\n",
       "      <td>0.034764</td>\n",
       "      <td>3.4764 %</td>\n",
       "    </tr>\n",
       "  </tbody>\n",
       "</table>\n",
       "</div>"
      ],
      "text/plain": [
       "                            fréquence absolu  fréquence relative pourcentage\n",
       "cause                                                                       \n",
       "Incident (Message Reflexe)            314823            0.518138   51.8138 %\n",
       "Difficultés d'exploitation             27684            0.045563    4.5563 %\n",
       "Incident d'exploitation                24057            0.039593    3.9593 %\n",
       "Bagage oublié                          21262            0.034993    3.4993 %\n",
       "Malaise voyageur                       21123            0.034764    3.4764 %"
      ]
     },
     "execution_count": 91,
     "metadata": {},
     "output_type": "execute_result"
    }
   ],
   "source": [
    "df_SGIC_causes.head()"
   ]
  },
  {
   "cell_type": "code",
   "execution_count": 97,
   "id": "a597649f",
   "metadata": {},
   "outputs": [],
   "source": [
    "df_SGIC_causes.to_csv(\"SGIC_causes.csv\")"
   ]
  },
  {
   "cell_type": "code",
   "execution_count": null,
   "id": "ad982b2b",
   "metadata": {},
   "outputs": [],
   "source": []
  }
 ],
 "metadata": {
  "kernelspec": {
   "display_name": "Python 3",
   "language": "python",
   "name": "python3"
  },
  "language_info": {
   "codemirror_mode": {
    "name": "ipython",
    "version": 3
   },
   "file_extension": ".py",
   "mimetype": "text/x-python",
   "name": "python",
   "nbconvert_exporter": "python",
   "pygments_lexer": "ipython3",
   "version": "3.8.8"
  }
 },
 "nbformat": 4,
 "nbformat_minor": 5
}
